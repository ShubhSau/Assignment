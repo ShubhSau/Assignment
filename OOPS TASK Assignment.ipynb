{
 "cells": [
  {
   "cell_type": "markdown",
   "id": "02a05f98-ea90-473f-8436-630b08addd4a",
   "metadata": {},
   "source": [
    "Q1. Create a vehicle class with an init method having instance variables as name_of_vehicle, max_speed\n",
    "and average_of_vehicle."
   ]
  },
  {
   "cell_type": "code",
   "execution_count": 1,
   "id": "08264ba1-c8fb-49f7-a1e6-5650a4db84da",
   "metadata": {},
   "outputs": [],
   "source": [
    "class Vehicle:\n",
    "    def __init__(self, name_of_vehicle, max_speed, average_of_vehicle):\n",
    "        self.name_of_vehicle = name_of_vehicle\n",
    "        self.max_speed = max_speed\n",
    "        self.average_of_vehicle = average_of_vehicle\n"
   ]
  },
  {
   "cell_type": "markdown",
   "id": "3b3d1533-527e-419d-87f2-a378c163aa9e",
   "metadata": {},
   "source": [
    "Q2. Create a child class car from the vehicle class created in Que 1, which will inherit the vehicle class.\n",
    "Create a method named seating_capacity which takes capacity as an argument and returns the name of\n",
    "the vehicle and its seating capacity."
   ]
  },
  {
   "cell_type": "code",
   "execution_count": 2,
   "id": "4acead1a-b630-4503-ae52-a7a1b1304f39",
   "metadata": {},
   "outputs": [],
   "source": [
    "class Car(Vehicle):\n",
    "    def seating_capacity(self, capacity):\n",
    "        return f\"{self.name_of_vehicle} - Seating Capacity: {capacity}\"\n"
   ]
  },
  {
   "cell_type": "markdown",
   "id": "8abee6e6-3577-4444-affd-53d1a0265738",
   "metadata": {},
   "source": [
    "Q3. What is multiple inheritance? Write a python code to demonstrate multiple inheritance."
   ]
  },
  {
   "cell_type": "code",
   "execution_count": 4,
   "id": "94022ac2-91f4-489e-ae7a-2258589abd6f",
   "metadata": {},
   "outputs": [
    {
     "name": "stdout",
     "output_type": "stream",
     "text": [
      "Sparrow is making a sound.\n",
      "Flying...\n"
     ]
    }
   ],
   "source": [
    "\"\"\"When a class is derived from more than one base class it is called multiple Inheritance. The derived class inherits all the features of the base case.\"\"\"\n",
    "\n",
    "class Animal:\n",
    "    def __init__(self, name):\n",
    "        self.name = name\n",
    "\n",
    "    def speak(self):\n",
    "        print(f\"{self.name} is making a sound.\")\n",
    "\n",
    "class Flyable:\n",
    "    def fly(self):\n",
    "        print(\"Flying...\")\n",
    "\n",
    "class Bird(Animal, Flyable):\n",
    "    def __init__(self, name):\n",
    "        super().__init__(name)\n",
    "\n",
    "bird = Bird(\"Sparrow\")\n",
    "bird.speak()\n",
    "bird.fly()\n"
   ]
  },
  {
   "cell_type": "markdown",
   "id": "fc2c273f-cca0-4d3d-bec6-533a91c722bc",
   "metadata": {},
   "source": [
    "Q4. What are getter and setter in python? Create a class and create a getter and a setter method in this\n",
    "class."
   ]
  },
  {
   "cell_type": "markdown",
   "id": "05cfe2d7-038b-4cd8-9896-85c443e9c912",
   "metadata": {},
   "source": [
    "Getters and setters are methods that provide access to the attributes of a class while allowing control over how they are accessed and modified. They are commonly used to enforce data encapsulation and maintain proper data integrity.\n",
    "\n",
    "Getters are methods used to retrieve the values of private attributes, while setters are methods used to modify the values of private attributes with some validation or logic."
   ]
  },
  {
   "cell_type": "code",
   "execution_count": 5,
   "id": "1bba4c74-d14f-47be-8068-dc8bd0e6ecf1",
   "metadata": {},
   "outputs": [
    {
     "name": "stdout",
     "output_type": "stream",
     "text": [
      "21\n",
      "21\n"
     ]
    }
   ],
   "source": [
    "class Method:\n",
    "    def __init__(self, age = 0):\n",
    "        self._age = age\n",
    "        \n",
    "    def get_age(self):\n",
    "        return self._age\n",
    "    \n",
    "    def set_age(self, x):\n",
    "        self._age = x\n",
    "\n",
    "raj = Method()\n",
    "\n",
    "raj.set_age(21)\n",
    "\n",
    "print(raj.get_age())\n",
    "\n",
    "print(raj._age)"
   ]
  },
  {
   "cell_type": "markdown",
   "id": "9a66197f-38de-4d28-80d5-4cd019dcaf3f",
   "metadata": {},
   "source": [
    "Q5.What is method overriding in python? Write a python code to demonstrate method overriding."
   ]
  },
  {
   "cell_type": "markdown",
   "id": "06af8583-3d9b-4bd0-be07-ef6952f10cc4",
   "metadata": {},
   "source": [
    "Method overriding is an ability of any object-oriented programming language that allows a subclass or child class to provide a specific implementation of a method that is already provided by one of its super-classes or parent classes. When a method in a subclass has the same name, same parameters or signature and same return type(or sub-type) as a method in its super-class, then the method in the subclass is said to override the method in the super-class."
   ]
  },
  {
   "cell_type": "code",
   "execution_count": 6,
   "id": "6361491f-184d-4017-ad1b-2841d59780af",
   "metadata": {},
   "outputs": [
    {
     "name": "stdout",
     "output_type": "stream",
     "text": [
      "Animal makes a sound.\n",
      "Cat meows.\n",
      "Dog barks.\n"
     ]
    }
   ],
   "source": [
    "class Animal:\n",
    "    def sound(self):\n",
    "        print(\"Animal makes a sound.\")\n",
    "\n",
    "class Cat(Animal):\n",
    "    def sound(self):\n",
    "        print(\"Cat meows.\")\n",
    "\n",
    "class Dog(Animal):\n",
    "    def sound(self):\n",
    "        print(\"Dog barks.\")\n",
    "\n",
    "animal = Animal()\n",
    "animal.sound() \n",
    "\n",
    "cat = Cat()\n",
    "cat.sound()\n",
    "\n",
    "dog = Dog()\n",
    "dog.sound()"
   ]
  },
  {
   "cell_type": "code",
   "execution_count": null,
   "id": "f908f8ed-0775-433a-b926-7f2c7459cff7",
   "metadata": {},
   "outputs": [],
   "source": []
  }
 ],
 "metadata": {
  "kernelspec": {
   "display_name": "Python 3 (ipykernel)",
   "language": "python",
   "name": "python3"
  },
  "language_info": {
   "codemirror_mode": {
    "name": "ipython",
    "version": 3
   },
   "file_extension": ".py",
   "mimetype": "text/x-python",
   "name": "python",
   "nbconvert_exporter": "python",
   "pygments_lexer": "ipython3",
   "version": "3.10.8"
  }
 },
 "nbformat": 4,
 "nbformat_minor": 5
}
